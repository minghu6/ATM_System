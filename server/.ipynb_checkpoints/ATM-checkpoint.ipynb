{
 "cells": [
  {
   "cell_type": "code",
   "execution_count": 1,
   "metadata": {
    "collapsed": false
   },
   "outputs": [],
   "source": [
    "import os\n",
    "import sys\n",
    "import hashlib\n",
    "import xmlrpc.client\n",
    "import sqlite3\n",
    "import tkinter as tk\n",
    "import getpass\n",
    "import tkinter.ttk as ttk\n",
    "from tkinter.messagebox import showinfo,showerror,showwarning\n",
    "import subprocess\n",
    "from subprocess import Popen,PIPE"
   ]
  },
  {
   "cell_type": "code",
   "execution_count": null,
   "metadata": {
    "collapsed": true
   },
   "outputs": [],
   "source": [
    "def __python_find():\n",
    "    \"\"\"\n",
    "    Dynamic find the python form can be used\n",
    "    python\n",
    "    python3\n",
    "    python3.1-python3.7\n",
    "    \"\"\"\n",
    "    py_ver=list()\n",
    "    \n",
    "    py='python'\n",
    "    if os.system(py+' --version')==0:#return 0 for ok,1 for error(confusing)\n",
    "        py_ver.append(py)\n",
    "        \n",
    "    py3='python3'\n",
    "    if os.system(py3+' --version')==0:\n",
    "        py_ver.append(py3)\n",
    "    for i in range(7):\n",
    "        one=py3+'.'+str(i+1)\n",
    "        if os.system(one+' --version')==0:\n",
    "            py_ver.append(one)\n",
    "\n",
    "    return py_ver"
   ]
  },
  {
   "cell_type": "code",
   "execution_count": null,
   "metadata": {
    "collapsed": false
   },
   "outputs": [],
   "source": [
    "__python_find()"
   ]
  },
  {
   "cell_type": "code",
   "execution_count": 3,
   "metadata": {
    "collapsed": true
   },
   "outputs": [],
   "source": [
    "def mac():\n",
    "    return tk._default_root.tk.call(\"tk\", \"windowingsystem\") == \"aqua\"\n",
    "\n",
    "def windows():\n",
    "    return tk._default_root.tk.call(\"tk\", \"windowingsystem\") == \"win32\"\n",
    "\n",
    "def x11():\n",
    "    return tk._default_root.tk.call(\"tk\", \"windowingsystem\") == \"x11\""
   ]
  },
  {
   "cell_type": "code",
   "execution_count": null,
   "metadata": {
    "collapsed": true
   },
   "outputs": [],
   "source": [
    "def font_families():\n",
    "    \"\"\"Returns all the system-specific font families, plus the three\n",
    "    guaranteed built-in font families\"\"\"\n",
    "    return sorted(set(tkfont.families()) |\n",
    "            {\"Helvetica\", \"Times\", \"Courier\"})"
   ]
  },
  {
   "cell_type": "code",
   "execution_count": null,
   "metadata": {
    "collapsed": true
   },
   "outputs": [],
   "source": [
    "c=hashlib.sha512('1234'.encode())"
   ]
  },
  {
   "cell_type": "code",
   "execution_count": null,
   "metadata": {
    "collapsed": false
   },
   "outputs": [],
   "source": [
    "c.hexdigest()"
   ]
  },
  {
   "cell_type": "code",
   "execution_count": null,
   "metadata": {
    "collapsed": true
   },
   "outputs": [],
   "source": [
    "c.update('abcd'.encode())"
   ]
  },
  {
   "cell_type": "code",
   "execution_count": null,
   "metadata": {
    "collapsed": false
   },
   "outputs": [],
   "source": [
    "hashlib.sha512(c)"
   ]
  },
  {
   "cell_type": "code",
   "execution_count": null,
   "metadata": {
    "collapsed": true
   },
   "outputs": [],
   "source": [
    "def add(x,y):\n",
    "    if y==0:return x\n",
    "    else:\n",
    "        sum=(x^y)\n",
    "        carry=(x&y)<<1\n",
    "        return add(sum,carry)"
   ]
  },
  {
   "cell_type": "code",
   "execution_count": null,
   "metadata": {
    "collapsed": true
   },
   "outputs": [],
   "source": [
    "raise Exception('is not valid alias name')"
   ]
  },
  {
   "cell_type": "code",
   "execution_count": null,
   "metadata": {
    "collapsed": true
   },
   "outputs": [],
   "source": [
    "import sqlite3"
   ]
  },
  {
   "cell_type": "code",
   "execution_count": null,
   "metadata": {
    "collapsed": true
   },
   "outputs": [],
   "source": [
    "class AlreadyExists(Exception):\n",
    "    pass\n",
    "\n",
    "def init_db():\n",
    "\n",
    "    conn=sqlite3.connect('bank.db')\n",
    "    cur=conn.cursor()\n",
    "    def create_db(conn):\n",
    "        '''\n",
    "        table account form are as follow(in MySQL form):\n",
    "        \n",
    "            account_id char(19) primary key\n",
    "            passwd varchar(30) not null\n",
    "            user_name varchar(30) not null\n",
    "            user_id char(18) unique\n",
    "            amount decimal default 0\n",
    "            currency varchar(20) not null\n",
    "            store_type varchar(20) default 'current_account')\n",
    "            bank varchar(20) not null 所属银行\n",
    "        '''\n",
    "        try:\n",
    "            with conn:\n",
    "                conn.execute('''create table account(account_id text primary key,\n",
    "                                                            passwd text,\n",
    "                                                            user_name text not null,\n",
    "                                                            user_id text unique,\n",
    "                                                            amount real default 0,\n",
    "                                                            currency text not null,\n",
    "                                                            store_type text default 'currentt',\n",
    "                                                            bank text not null);''')\n",
    "            \n",
    "        except sqlite3.OperationalError as err:\n",
    "            raise AlreadyExists(err)\n",
    "    \n",
    "    def insert_data(conn):\n",
    "        Users=[(\"b123456789123456789\",\"123456\",\"朱汉民\",\"632875927425678921\",10e8,\"rmb\",\"current_account\",\"中国银行\"),\n",
    "              (\"zh12345678912345678\",\"654321\",\"马云\",\"143678142343647654\",10e10,\"rmb\",\"fixed_102\",\"超弦理论探索银行\"),\n",
    "              (\"us123456789123456789\",\"zxcvbn\",\"Durex\",\"171649872365873249\",92345e3,\"rmb\",\"current\",\"光大银行\")]\n",
    "        try:\n",
    "            with conn:\n",
    "                conn.executemany('insert into account values(?,?,?,?,?,?,?,?)',Users)\n",
    "        except sqlite3.IntegrityError as err:\n",
    "            raise AlreadyExists(err)\n",
    "            \n",
    "    try:            \n",
    "        create_db(conn)\n",
    "    except AlreadyExists as err:\n",
    "        print(err)\n",
    "        \n",
    "    try:            \n",
    "        insert_data(conn)\n",
    "    except AlreadyExists as err:\n",
    "        print(err)\n",
    "   \n",
    "    conn.commit()\n",
    "    conn.close()"
   ]
  },
  {
   "cell_type": "code",
   "execution_count": null,
   "metadata": {
    "collapsed": true
   },
   "outputs": [],
   "source": [
    "init_db()"
   ]
  },
  {
   "cell_type": "code",
   "execution_count": 6,
   "metadata": {
    "collapsed": false
   },
   "outputs": [
    {
     "data": {
      "text/plain": [
       "<sqlite3.Cursor at 0xa7b1f0>"
      ]
     },
     "execution_count": 6,
     "metadata": {},
     "output_type": "execute_result"
    }
   ],
   "source": [
    "conn=sqlite3.connect('bank.db')\n",
    "conn.execute('drop table account')"
   ]
  },
  {
   "cell_type": "code",
   "execution_count": 9,
   "metadata": {
    "collapsed": true
   },
   "outputs": [],
   "source": [
    "conn=sqlite3.connect('bank.db')\n",
    "cur=conn.cursor()"
   ]
  },
  {
   "cell_type": "code",
   "execution_count": null,
   "metadata": {
    "collapsed": true
   },
   "outputs": [],
   "source": [
    "conn.execute('')"
   ]
  },
  {
   "cell_type": "code",
   "execution_count": 10,
   "metadata": {
    "collapsed": false
   },
   "outputs": [
    {
     "ename": "OperationalError",
     "evalue": "no such table: account",
     "output_type": "error",
     "traceback": [
      "\u001b[1;31m---------------------------------------------------------------------------\u001b[0m",
      "\u001b[1;31mOperationalError\u001b[0m                          Traceback (most recent call last)",
      "\u001b[1;32m<ipython-input-10-e60df22d737a>\u001b[0m in \u001b[0;36m<module>\u001b[1;34m()\u001b[0m\n\u001b[1;32m----> 1\u001b[1;33m \u001b[0mcur\u001b[0m\u001b[1;33m.\u001b[0m\u001b[0mexecute\u001b[0m\u001b[1;33m(\u001b[0m\u001b[1;34m'select * from account'\u001b[0m\u001b[1;33m)\u001b[0m\u001b[1;33m\u001b[0m\u001b[0m\n\u001b[0m\u001b[0;32m      2\u001b[0m \u001b[0mconn\u001b[0m\u001b[1;33m.\u001b[0m\u001b[0mcommit\u001b[0m\u001b[1;33m(\u001b[0m\u001b[1;33m)\u001b[0m\u001b[1;33m\u001b[0m\u001b[0m\n\u001b[0;32m      3\u001b[0m \u001b[0mcur\u001b[0m\u001b[1;33m.\u001b[0m\u001b[0mfetchall\u001b[0m\u001b[1;33m(\u001b[0m\u001b[1;33m)\u001b[0m\u001b[1;33m\u001b[0m\u001b[0m\n",
      "\u001b[1;31mOperationalError\u001b[0m: no such table: account"
     ]
    }
   ],
   "source": [
    "cur.execute('select * from account')\n",
    "conn.commit()\n",
    "cur.fetchall()"
   ]
  },
  {
   "cell_type": "code",
   "execution_count": 3,
   "metadata": {
    "collapsed": false
   },
   "outputs": [
    {
     "ename": "OperationalError",
     "evalue": "no such table: account",
     "output_type": "error",
     "traceback": [
      "\u001b[1;31m---------------------------------------------------------------------------\u001b[0m",
      "\u001b[1;31mOperationalError\u001b[0m                          Traceback (most recent call last)",
      "\u001b[1;32m<ipython-input-3-745aab1d5357>\u001b[0m in \u001b[0;36m<module>\u001b[1;34m()\u001b[0m\n\u001b[0;32m      1\u001b[0m \u001b[0maccount_id\u001b[0m\u001b[1;33m=\u001b[0m\u001b[1;34m'b123456789123456789'\u001b[0m\u001b[1;33m\u001b[0m\u001b[0m\n\u001b[1;32m----> 2\u001b[1;33m \u001b[0mcur\u001b[0m\u001b[1;33m.\u001b[0m\u001b[0mexecute\u001b[0m\u001b[1;33m(\u001b[0m\u001b[1;34m'select passwd from account where account_id = ? '\u001b[0m\u001b[1;33m,\u001b[0m\u001b[1;33m(\u001b[0m\u001b[0maccount_id\u001b[0m\u001b[1;33m,\u001b[0m\u001b[1;33m)\u001b[0m\u001b[1;33m)\u001b[0m\u001b[1;33m\u001b[0m\u001b[0m\n\u001b[0m\u001b[0;32m      3\u001b[0m \u001b[0mcur\u001b[0m\u001b[1;33m.\u001b[0m\u001b[0mfetchone\u001b[0m\u001b[1;33m(\u001b[0m\u001b[1;33m)\u001b[0m\u001b[1;33m\u001b[0m\u001b[0m\n",
      "\u001b[1;31mOperationalError\u001b[0m: no such table: account"
     ]
    }
   ],
   "source": [
    "account_id='b123456789123456789'\n",
    "cur.execute('select passwd from account where account_id = ? ',(account_id,))\n",
    "cur.fetchone()"
   ]
  },
  {
   "cell_type": "code",
   "execution_count": null,
   "metadata": {
    "collapsed": false
   },
   "outputs": [],
   "source": [
    "cur.execute(\"PRAGMA table_info(tablename)\")\n",
    "cur.fetchall()"
   ]
  },
  {
   "cell_type": "code",
   "execution_count": null,
   "metadata": {
    "collapsed": true
   },
   "outputs": [],
   "source": []
  },
  {
   "cell_type": "code",
   "execution_count": null,
   "metadata": {
    "collapsed": false
   },
   "outputs": [],
   "source": [
    "cur.fetchone()"
   ]
  },
  {
   "cell_type": "code",
   "execution_count": 5,
   "metadata": {
    "collapsed": false
   },
   "outputs": [
    {
     "ename": "NameError",
     "evalue": "name 'cur' is not defined",
     "output_type": "error",
     "traceback": [
      "\u001b[1;31m---------------------------------------------------------------------------\u001b[0m",
      "\u001b[1;31mNameError\u001b[0m                                 Traceback (most recent call last)",
      "\u001b[1;32m<ipython-input-5-6f080f5fcb4b>\u001b[0m in \u001b[0;36m<module>\u001b[1;34m()\u001b[0m\n\u001b[1;32m----> 1\u001b[1;33m cur.execute('''insert into account(account_id,user_name,user_id,currency,store_type) \n\u001b[0m\u001b[0;32m      2\u001b[0m                             values(\"b631234656123457891\",\"朱汉民\",\"632875927425678921\",\"rmb\",\"current_account\")''')\n",
      "\u001b[1;31mNameError\u001b[0m: name 'cur' is not defined"
     ]
    }
   ],
   "source": [
    "cur.execute('''insert into account(account_id,user_name,user_id,currency,store_type) \n",
    "                            values(\"b631234656123457891\",\"朱汉民\",\"632875927425678921\",\"rmb\",\"current_account\")''')"
   ]
  }
 ],
 "metadata": {
  "kernelspec": {
   "display_name": "python3",
   "language": "python",
   "name": "python3"
  },
  "language_info": {
   "codemirror_mode": {
    "name": "ipython",
    "version": 3
   },
   "file_extension": ".py",
   "mimetype": "text/x-python",
   "name": "python",
   "nbconvert_exporter": "python",
   "pygments_lexer": "ipython3",
   "version": "3.4.2"
  }
 },
 "nbformat": 4,
 "nbformat_minor": 0
}
