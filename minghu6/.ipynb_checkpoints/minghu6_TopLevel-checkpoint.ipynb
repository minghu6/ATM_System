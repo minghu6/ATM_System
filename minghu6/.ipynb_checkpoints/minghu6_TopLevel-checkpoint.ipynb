{
 "cells": [
  {
   "cell_type": "code",
   "execution_count": 3,
   "metadata": {
    "collapsed": false
   },
   "outputs": [],
   "source": [
    "import sys\n",
    "import os\n",
    "import pickle\n",
    "import base64\n",
    "from functools import partial\n",
    "\n",
    "import urllib"
   ]
  },
  {
   "cell_type": "code",
   "execution_count": 1,
   "metadata": {
    "collapsed": true
   },
   "outputs": [],
   "source": [
    "import getpass"
   ]
  },
  {
   "cell_type": "code",
   "execution_count": 5,
   "metadata": {
    "collapsed": false
   },
   "outputs": [
    {
     "data": {
      "text/plain": [
       "'Administrator'"
      ]
     },
     "execution_count": 5,
     "metadata": {},
     "output_type": "execute_result"
    }
   ],
   "source": [
    "getpass.getuser()"
   ]
  },
  {
   "cell_type": "code",
   "execution_count": 6,
   "metadata": {
    "collapsed": true
   },
   "outputs": [],
   "source": [
    "\n",
    "def askyesno(prompt='',end='(Y/n)',default=None):\n",
    "    if sys.version_info.major==2:\n",
    "        global input\n",
    "        input=raw_input\n",
    "    value=input(prompt+end).strip().upper()\n",
    "    if value in  ('Y','YES') or (value=='' and default==True):\n",
    "        return True\n",
    "    elif value in ('N','NO') or (value=='' and default==False):\n",
    "        return False\n",
    "    else :\n",
    "        return askyesno(prompt=prompt,end=end,default=default)\n",
    "    "
   ]
  },
  {
   "cell_type": "code",
   "execution_count": 16,
   "metadata": {
    "collapsed": false
   },
   "outputs": [
    {
     "data": {
      "text/plain": [
       "True"
      ]
     },
     "execution_count": 16,
     "metadata": {},
     "output_type": "execute_result"
    }
   ],
   "source": [
    "os.path.exists('a2.html')"
   ]
  },
  {
   "cell_type": "code",
   "execution_count": 28,
   "metadata": {
    "collapsed": false
   },
   "outputs": [
    {
     "ename": "OSError",
     "evalue": "[Errno 22] Invalid argument: 'E:\\\\music\\\\MV\\temp\\\\Good Luck - Show Champion 现场版 16//05//18--音悦Tai.mp4'",
     "output_type": "error",
     "traceback": [
      "\u001b[1;31m---------------------------------------------------------------------------\u001b[0m",
      "\u001b[1;31mOSError\u001b[0m                                   Traceback (most recent call last)",
      "\u001b[1;32m<ipython-input-28-0862130bb97f>\u001b[0m in \u001b[0;36m<module>\u001b[1;34m()\u001b[0m\n\u001b[1;32m----> 1\u001b[1;33m \u001b[0mopen\u001b[0m\u001b[1;33m(\u001b[0m\u001b[0ms\u001b[0m\u001b[1;33m,\u001b[0m\u001b[1;34m'w'\u001b[0m\u001b[1;33m)\u001b[0m\u001b[1;33m\u001b[0m\u001b[0m\n\u001b[0m",
      "\u001b[1;31mOSError\u001b[0m: [Errno 22] Invalid argument: 'E:\\\\music\\\\MV\\temp\\\\Good Luck - Show Champion 现场版 16//05//18--音悦Tai.mp4'"
     ]
    }
   ],
   "source": [
    "open(s,'w')"
   ]
  },
  {
   "cell_type": "code",
   "execution_count": 27,
   "metadata": {
    "collapsed": true
   },
   "outputs": [],
   "source": [
    "s='E:\\music\\MV\\temp\\Good Luck - Show Champion 现场版 16//05//18--音悦Tai.mp4'"
   ]
  },
  {
   "cell_type": "code",
   "execution_count": 19,
   "metadata": {
    "collapsed": false
   },
   "outputs": [
    {
     "data": {
      "text/plain": [
       "False"
      ]
     },
     "execution_count": 19,
     "metadata": {},
     "output_type": "execute_result"
    }
   ],
   "source": [
    "os.path.isfile()"
   ]
  },
  {
   "cell_type": "code",
   "execution_count": 10,
   "metadata": {
    "collapsed": false
   },
   "outputs": [
    {
     "name": "stdout",
     "output_type": "stream",
     "text": [
      "overload the file(Y/n)no\n"
     ]
    },
    {
     "data": {
      "text/plain": [
       "False"
      ]
     },
     "execution_count": 10,
     "metadata": {},
     "output_type": "execute_result"
    }
   ],
   "source": [
    "askyesno('overload the file',default=False)"
   ]
  },
  {
   "cell_type": "code",
   "execution_count": 10,
   "metadata": {
    "collapsed": false
   },
   "outputs": [
    {
     "data": {
      "text/plain": [
       "'ABV'"
      ]
     },
     "execution_count": 10,
     "metadata": {},
     "output_type": "execute_result"
    }
   ],
   "source": [
    "s='abv'\n",
    "s.upper()"
   ]
  },
  {
   "cell_type": "code",
   "execution_count": 4,
   "metadata": {
    "collapsed": false
   },
   "outputs": [
    {
     "data": {
      "text/plain": [
       "sys.version_info(major=3, minor=4, micro=2, releaselevel='final', serial=0)"
      ]
     },
     "execution_count": 4,
     "metadata": {},
     "output_type": "execute_result"
    }
   ],
   "source": [
    "sys.version_info"
   ]
  },
  {
   "cell_type": "code",
   "execution_count": 1,
   "metadata": {
    "collapsed": true
   },
   "outputs": [],
   "source": [
    "if True:\n",
    "    def af():\n",
    "        print('hi')"
   ]
  },
  {
   "cell_type": "code",
   "execution_count": 2,
   "metadata": {
    "collapsed": false
   },
   "outputs": [
    {
     "name": "stdout",
     "output_type": "stream",
     "text": [
      "hi\n"
     ]
    }
   ],
   "source": [
    "af()"
   ]
  },
  {
   "cell_type": "code",
   "execution_count": 22,
   "metadata": {
    "collapsed": false
   },
   "outputs": [
    {
     "data": {
      "text/plain": [
       "4"
      ]
     },
     "execution_count": 22,
     "metadata": {},
     "output_type": "execute_result"
    }
   ],
   "source": [
    "sys.version_info.minor"
   ]
  },
  {
   "cell_type": "code",
   "execution_count": 30,
   "metadata": {
    "collapsed": true
   },
   "outputs": [],
   "source": [
    "def require_vars(property_args=list(),method_args=list()):\n",
    "    \"\"\"Class decorator to require methods on a subclass.\n",
    "    pyversion>=2.6\n",
    "    Example usage\n",
    "    ------------\n",
    "    @require_methods(prperty_args=['m1'], method_args=['m2'])\n",
    "    class C(object):\n",
    "        'This class cannot be instantiated unless the subclass defines m1 and m2().'\n",
    "        def __init__(self):\n",
    "            pass\n",
    "    \"\"\"\n",
    "    import sys\n",
    "    if sys.version_info.major==2 and sys.version_info.minor<6:\n",
    "        raise Exception('python version do not support this decorator')\n",
    "    def fn(cls):\n",
    "        orig_init = cls.__init__\n",
    "        def init_wrapper(self, *args, **kwargs):\n",
    "            for method in method_args:\n",
    "                if (not (method in dir(self))) or \\\n",
    "                   (not callable(getattr(self, method))):\n",
    "                    raise Exception(\"Required method %s not implemented\" % method)\n",
    "                    \n",
    "            for property in property_args:\n",
    "                if (not (property in dir(self))) or \\\n",
    "                   (callable(getattr(self, property))):\n",
    "                    raise Exception(\"Required property %s not implemented\" % property)    \n",
    "                    \n",
    "                    \n",
    "            orig_init(self, *args, **kwargs)\n",
    "        cls.__init__ = init_wrapper\n",
    "        return cls\n",
    "    return fn\n"
   ]
  },
  {
   "cell_type": "code",
   "execution_count": 49,
   "metadata": {
    "collapsed": false
   },
   "outputs": [
    {
     "ename": "SyntaxError",
     "evalue": "invalid syntax (<ipython-input-49-6a34af75ca3d>, line 1)",
     "output_type": "error",
     "traceback": [
      "\u001b[1;36m  File \u001b[1;32m\"<ipython-input-49-6a34af75ca3d>\"\u001b[1;36m, line \u001b[1;32m1\u001b[0m\n\u001b[1;33m    new T\u001b[0m\n\u001b[1;37m        ^\u001b[0m\n\u001b[1;31mSyntaxError\u001b[0m\u001b[1;31m:\u001b[0m invalid syntax\n"
     ]
    }
   ],
   "source": [
    "T"
   ]
  },
  {
   "cell_type": "code",
   "execution_count": 41,
   "metadata": {
    "collapsed": false
   },
   "outputs": [],
   "source": [
    "@require_vars(property_args=['a'],method_args=['a'])\n",
    "class T:\n",
    "    @property\n",
    "    def a(self):\n",
    "        print('haha')\n",
    "        \n"
   ]
  },
  {
   "cell_type": "code",
   "execution_count": 57,
   "metadata": {
    "collapsed": false
   },
   "outputs": [],
   "source": [
    "from functools import partial\n",
    "def ExpHandler(*pargs):\n",
    "    \"\"\" An exception handling idiom using decorators\"\"\"\n",
    "\n",
    "    def wrapper(f):\n",
    "        if pargs:\n",
    "            (handler,li) = pargs\n",
    "            t = [(ex, handler)\n",
    "                 for ex in li ]\n",
    "            t.reverse()\n",
    "        else:\n",
    "            t = [(Exception,None)]\n",
    "\n",
    "        def newfunc(t,*args, **kwargs):#recursion\n",
    "            ex, handler = t[0]\n",
    "\n",
    "            try:\n",
    "                if len(t) == 1:\n",
    "                    f(*args, **kwargs)\n",
    "                else:\n",
    "                    newfunc(t[1:],*args,**kwargs)\n",
    "            except ex as e:\n",
    "                if handler:\n",
    "                    handler(e)\n",
    "                else:\n",
    "                    print (e.__class__.__name__, ':', e)\n",
    "\n",
    "        return partial(newfunc,t)\n",
    "    return wrapper\n"
   ]
  },
  {
   "cell_type": "code",
   "execution_count": 58,
   "metadata": {
    "collapsed": false
   },
   "outputs": [
    {
     "name": "stdout",
     "output_type": "stream",
     "text": [
      "Caught exception! division by zero\n"
     ]
    }
   ],
   "source": [
    "f1()"
   ]
  },
  {
   "cell_type": "code",
   "execution_count": 56,
   "metadata": {
    "collapsed": false
   },
   "outputs": [
    {
     "name": "stdout",
     "output_type": "stream",
     "text": [
      "ValueError : tuple.index(x): x not in tuple\n"
     ]
    }
   ],
   "source": [
    "f3()"
   ]
  },
  {
   "cell_type": "code",
   "execution_count": 64,
   "metadata": {
    "collapsed": false
   },
   "outputs": [
    {
     "data": {
      "text/plain": [
       "<os._wrap_close at 0x853898>"
      ]
     },
     "execution_count": 64,
     "metadata": {},
     "output_type": "execute_result"
    }
   ],
   "source": [
    "os.popen('ls')"
   ]
  },
  {
   "cell_type": "code",
   "execution_count": 74,
   "metadata": {
    "collapsed": false
   },
   "outputs": [
    {
     "data": {
      "text/plain": [
       "'42 hello 0.001\\n'"
      ]
     },
     "execution_count": 74,
     "metadata": {},
     "output_type": "execute_result"
    }
   ],
   "source": [
    "from io import StringIO\n",
    "import sys\n",
    "buff =StringIO()\n",
    "\n",
    "temp = sys.stdout                               #保存标准I/O流\n",
    "sys.stdout = buff                                 #将标准I/O流重定向到buff对象\n",
    "print (42, 'hello', 0.001)\n",
    "\n",
    "sys.stdout =temp                                 #恢复标准I/O流\n",
    "buff.getvalue()"
   ]
  },
  {
   "cell_type": "code",
   "execution_count": 124,
   "metadata": {
    "collapsed": true
   },
   "outputs": [],
   "source": [
    "import sys\n",
    "class o_redict:\n",
    "    def __enter__(self):\n",
    "        buff=StringIO()\n",
    "        self.origin_stream=sys.stdout\n",
    "        sys.stdout=buff\n",
    "        return buff\n",
    "    \n",
    "    def __exit__(self,*args):\n",
    "        sys.stdout=self.origin_stream\n",
    "        "
   ]
  },
  {
   "cell_type": "code",
   "execution_count": 125,
   "metadata": {
    "collapsed": false
   },
   "outputs": [],
   "source": [
    "with o_redict() as buf:\n",
    "    print('hi')\n",
    "    os.popen('dir')\n",
    "    v=buf.getvalue()"
   ]
  },
  {
   "cell_type": "code",
   "execution_count": 153,
   "metadata": {
    "collapsed": true
   },
   "outputs": [],
   "source": [
    "import subprocess  \n",
    "p = subprocess.Popen('dir',stdout=subprocess.PIPE,shell=True)"
   ]
  },
  {
   "cell_type": "code",
   "execution_count": 151,
   "metadata": {
    "collapsed": false
   },
   "outputs": [
    {
     "data": {
      "text/plain": [
       "<_io.BufferedReader name=8>"
      ]
     },
     "execution_count": 151,
     "metadata": {},
     "output_type": "execute_result"
    }
   ],
   "source": [
    "p.stdout"
   ]
  },
  {
   "cell_type": "code",
   "execution_count": 152,
   "metadata": {
    "collapsed": false
   },
   "outputs": [
    {
     "name": "stdout",
     "output_type": "stream",
     "text": [
      "[b' \\xc7\\xfd\\xb6\\xaf\\xc6\\xf7 E \\xd6\\xd0\\xb5\\xc4\\xbe\\xed\\xc3\\xbb\\xd3\\xd0\\xb1\\xea\\xc7\\xa9\\xa1\\xa3\\r\\n', b' \\xbe\\xed\\xb5\\xc4\\xd0\\xf2\\xc1\\xd0\\xba\\xc5\\xca\\xc7 5801-FD10\\r\\n', b'\\r\\n', b' E:\\\\Coding\\\\Python3.4\\\\python_scripts\\\\minghu6 \\xb5\\xc4\\xc4\\xbf\\xc2\\xbc\\r\\n', b'\\r\\n', b'2016/05/23  21:18    <DIR>          .\\r\\n', b'2016/05/23  21:18    <DIR>          ..\\r\\n', b'2015/11/06  21:55               803 .gitignore\\r\\n', b'2016/05/23  21:12    <DIR>          .idea\\r\\n', b'2016/05/22  00:47    <DIR>          .ipynb_checkpoints\\r\\n', b'2016/05/22  00:09            96,637 a2.html\\r\\n', b'2016/05/23  18:16    <DIR>          algs\\r\\n', b'2016/04/27  16:50               642 auto_install.bat\\r\\n', b'2016/05/22  23:49             1,674 auto_install.py\\r\\n', b'2016/05/09  22:04    <DIR>          draw\\r\\n', b'2016/04/28  17:03    <DIR>          etc\\r\\n', b'2016/05/02  15:33    <DIR>          gui\\r\\n', b'2016/04/09  20:02    <DIR>          internet\\r\\n', b'2016/05/23  21:12    <DIR>          io\\r\\n', b'2016/05/04  19:19    <DIR>          math\\r\\n', b'2016/05/23  21:18            32,993 minghu6_TopLevel.ipynb\\r\\n', b'2016/05/23  20:32            29,166 minghu6_toplevel_python2.ipynb\\r\\n', b'2015/12/24  09:06               659 nb-configuration.xml\\r\\n', b'2016/05/17  18:58               330 setup.py\\r\\n', b'2016/05/23  20:37    <DIR>          text\\r\\n', b'2016/05/23  01:36    <DIR>          tools\\r\\n', b'2016/05/22  23:51               211 __init__.py\\r\\n', b'2016/05/23  01:06               335 __init__.pyc\\r\\n', b'2016/05/23  01:40    <DIR>          __pycache__\\r\\n', b'              10 \\xb8\\xf6\\xce\\xc4\\xbc\\xfe        163,450 \\xd7\\xd6\\xbd\\xda\\r\\n', b'              14 \\xb8\\xf6\\xc4\\xbf\\xc2\\xbc 118,863,364,096 \\xbf\\xc9\\xd3\\xc3\\xd7\\xd6\\xbd\\xda\\r\\n']\n"
     ]
    }
   ],
   "source": [
    "print (p.stdout.readlines())  "
   ]
  },
  {
   "cell_type": "code",
   "execution_count": 126,
   "metadata": {
    "collapsed": false
   },
   "outputs": [
    {
     "data": {
      "text/plain": [
       "'hi\\n'"
      ]
     },
     "execution_count": 126,
     "metadata": {},
     "output_type": "execute_result"
    }
   ],
   "source": [
    "v"
   ]
  },
  {
   "cell_type": "code",
   "execution_count": 96,
   "metadata": {
    "collapsed": true
   },
   "outputs": [],
   "source": [
    "command='dir'"
   ]
  },
  {
   "cell_type": "code",
   "execution_count": 105,
   "metadata": {
    "collapsed": false
   },
   "outputs": [
    {
     "data": {
      "text/plain": [
       "'\\r\\n'"
      ]
     },
     "execution_count": 105,
     "metadata": {},
     "output_type": "execute_result"
    }
   ],
   "source": [
    "os.linesep"
   ]
  },
  {
   "cell_type": "code",
   "execution_count": 108,
   "metadata": {
    "collapsed": true
   },
   "outputs": [],
   "source": [
    "import subprocess"
   ]
  },
  {
   "cell_type": "code",
   "execution_count": 183,
   "metadata": {
    "collapsed": false
   },
   "outputs": [
    {
     "data": {
      "text/plain": [
       "-1"
      ]
     },
     "execution_count": 183,
     "metadata": {},
     "output_type": "execute_result"
    }
   ],
   "source": [
    "subprocess.PIPE"
   ]
  },
  {
   "cell_type": "code",
   "execution_count": 184,
   "metadata": {
    "collapsed": false
   },
   "outputs": [],
   "source": [
    "#r = os.popen(command) #执行该命令\n",
    "p = subprocess.Popen('dir',stdout=subprocess.PIPE,shell=True)"
   ]
  },
  {
   "cell_type": "code",
   "execution_count": 181,
   "metadata": {
    "collapsed": false
   },
   "outputs": [
    {
     "data": {
      "text/plain": [
       "'dir'"
      ]
     },
     "execution_count": 181,
     "metadata": {},
     "output_type": "execute_result"
    }
   ],
   "source": [
    "r.args"
   ]
  },
  {
   "cell_type": "code",
   "execution_count": 185,
   "metadata": {
    "collapsed": false
   },
   "outputs": [],
   "source": [
    "s=p.stdout.readlines()"
   ]
  },
  {
   "cell_type": "code",
   "execution_count": 186,
   "metadata": {
    "collapsed": false
   },
   "outputs": [
    {
     "data": {
      "text/plain": [
       "' 驱动器 E 中的卷没有标签。\\r\\n'"
      ]
     },
     "execution_count": 186,
     "metadata": {},
     "output_type": "execute_result"
    }
   ],
   "source": [
    "s[0].decode('GBK')"
   ]
  },
  {
   "cell_type": "code",
   "execution_count": 196,
   "metadata": {
    "collapsed": false
   },
   "outputs": [],
   "source": [
    "\n",
    "#读取命令行的输出到一个list\n",
    "#按行\n",
    "lines=[line.decode('gbk') for line in s]"
   ]
  },
  {
   "cell_type": "code",
   "execution_count": 200,
   "metadata": {
    "collapsed": false
   },
   "outputs": [
    {
     "name": "stdout",
     "output_type": "stream",
     "text": [
      " 驱动器 E 中的卷没有标签。\r\n",
      " 卷的序列号是 5801-FD10\r\n",
      "\r\n",
      " E:\\Coding\\Python3.4\\python_scripts\\minghu6 的目录\r\n",
      "\r\n",
      "2016/05/23  22:50    <DIR>          .\r\n",
      "2016/05/23  22:50    <DIR>          ..\r\n",
      "2015/11/06  21:55               803 .gitignore\r\n",
      "2016/05/23  21:12    <DIR>          .idea\r\n",
      "2016/05/22  00:47    <DIR>          .ipynb_checkpoints\r\n",
      "2016/05/22  00:09            96,637 a2.html\r\n",
      "2016/05/23  18:16    <DIR>          algs\r\n",
      "2016/04/27  16:50               642 auto_install.bat\r\n",
      "2016/05/22  23:49             1,674 auto_install.py\r\n",
      "2016/05/09  22:04    <DIR>          draw\r\n",
      "2016/04/28  17:03    <DIR>          etc\r\n",
      "2016/05/02  15:33    <DIR>          gui\r\n",
      "2016/04/09  20:02    <DIR>          internet\r\n",
      "2016/05/23  21:12    <DIR>          io\r\n",
      "2016/05/04  19:19    <DIR>          math\r\n",
      "2016/05/23  22:50            34,728 minghu6_TopLevel.ipynb\r\n",
      "2016/05/23  20:32            29,166 minghu6_toplevel_python2.ipynb\r\n",
      "2015/12/24  09:06               659 nb-configuration.xml\r\n",
      "2016/05/17  18:58               330 setup.py\r\n",
      "2016/05/23  20:37    <DIR>          text\r\n",
      "2016/05/23  01:36    <DIR>          tools\r\n",
      "2016/05/22  23:51               211 __init__.py\r\n",
      "2016/05/23  01:06               335 __init__.pyc\r\n",
      "2016/05/23  01:40    <DIR>          __pycache__\r\n",
      "              10 个文件        165,185 字节\r\n",
      "              14 个目录 118,863,364,096 可用字节\r\n",
      "\n"
     ]
    }
   ],
   "source": [
    "print(''.join(lines))"
   ]
  },
  {
   "cell_type": "code",
   "execution_count": 166,
   "metadata": {
    "collapsed": false
   },
   "outputs": [
    {
     "data": {
      "text/plain": [
       "b''"
      ]
     },
     "execution_count": 166,
     "metadata": {},
     "output_type": "execute_result"
    }
   ],
   "source": [
    "info"
   ]
  },
  {
   "cell_type": "code",
   "execution_count": 192,
   "metadata": {
    "collapsed": true
   },
   "outputs": [],
   "source": [
    "def report(count, block_size, total_size):\n",
    "    download_size=count*block_size\n",
    "    percent = int(download_size*100/total_size)\n",
    "    sys.stdout.write('\\rdownload ...{0:d}%\\t{1:f} Mb'.format(percent,download_size/10e5))\n",
    "    sys.stdout.flush()"
   ]
  },
  {
   "cell_type": "code",
   "execution_count": 71,
   "metadata": {
    "collapsed": false
   },
   "outputs": [],
   "source": [
    "def Schedule(a,b,c):\n",
    "\n",
    "    '''''\n",
    "\n",
    "    a:已经下载的数据块\n",
    "\n",
    "    b:数据块的大小\n",
    "\n",
    "    c:远程文件的大小\n",
    "\n",
    "   '''\n",
    "\n",
    "    per = 100.0 * a * b / c\n",
    "\n",
    "    if per > 100 :\n",
    "\n",
    "        per = 100\n",
    "\n",
    "    print ('%.2f%%' % per,'已下载的大小:',a*b,'文件大小:',c)\n",
    "\n",
    "    #print '已经下载的数据块:',a#,'\\n'\n",
    "\n",
    "    #print '数据块的大小:',b#,'\\n'\n",
    "\n",
    "    #print '远程文件大小:',c,'\\n'\n",
    "\n",
    "    #print '已下载的大小:',a*b,'文件大小:',c"
   ]
  },
  {
   "cell_type": "code",
   "execution_count": 193,
   "metadata": {
    "collapsed": false
   },
   "outputs": [
    {
     "name": "stdout",
     "output_type": "stream",
     "text": [
      ":) downloading 2278607mv.flv\tplease wait...\n",
      "download ...100%\t26.476544 Mb"
     ]
    }
   ],
   "source": [
    "from urllib.request import Request #python3\n",
    "from urllib.request import urlopen #python3\n",
    "\n",
    "from urllib.request import urlretrieve #python3\n",
    "import re\n",
    "\n",
    "mv_id='2278607'\n",
    "\n",
    "url='http://www.yinyuetai.com/insite/get-video-info?flex=true&videoId='+mv_id\n",
    "timeout=30\n",
    "\n",
    "headers={'User-Agent':('Mozilla/5.0(Windows NT 6.3)'\n",
    "                       'AppleWebKit/537.36 (KHTML,like Gecko)'\n",
    "                       'Chrome/39.0.2171.95'\n",
    "                       'Safari/537.36'),\n",
    "         'Accept':('text/html,application/xhtml+xml,'\n",
    "                   'application/xml;'\n",
    "                   'q=0.9,image/webp,*/*;q=0.8')}\n",
    "\n",
    "req=Request(url,None,headers)\n",
    "\n",
    "with urlopen(req,None,timeout) as res:\n",
    "\n",
    "    html=res.read()\n",
    "    codec = res.info().get_param('charset', 'utf8')\n",
    "    html = html.decode(codec,errors='ignore')\n",
    "    \n",
    "\n",
    "reg=r'http://\\w*?\\.yinyuetai\\.com/uploads/videos/common.*?(?=&br)'\n",
    "pattern=re.compile(reg)\n",
    "findList=re.findall(pattern,html) #find all version of MV\n",
    "\n",
    "mvurl=findList[0] #240p 480p 720p 1080p\n",
    "\n",
    "local=str(mv_id)+'mv.flv'\n",
    "\n",
    "import traceback  \n",
    "\n",
    "try:\n",
    "    print (':) downloading {0:s}\\tplease wait...'.format(local))\n",
    "    urlretrieve(url=mvurl,filename=local,reporthook=report)\n",
    "\n",
    "except Exception as ex:\n",
    "    traceback.print_exc()\n",
    "    print (':( Sorry! The action is failed.\\n')"
   ]
  },
  {
   "cell_type": "code",
   "execution_count": 167,
   "metadata": {
    "collapsed": true
   },
   "outputs": [],
   "source": [
    "req=Request(url,None,headers)\n",
    "\n",
    "with urlopen(req,None,timeout) as res:\n",
    "\n",
    "    html=res.read()\n",
    "    codec = res.info().get_param('charset', 'utf8')\n",
    "    html = html.decode(codec,errors='ignore')"
   ]
  },
  {
   "cell_type": "code",
   "execution_count": 158,
   "metadata": {
    "collapsed": false
   },
   "outputs": [
    {
     "ename": "ImportError",
     "evalue": "No module named 'chardet'",
     "output_type": "error",
     "traceback": [
      "\u001b[1;31m---------------------------------------------------------------------------\u001b[0m",
      "\u001b[1;31mImportError\u001b[0m                               Traceback (most recent call last)",
      "\u001b[1;32m<ipython-input-158-acfa614c0c01>\u001b[0m in \u001b[0;36m<module>\u001b[1;34m()\u001b[0m\n\u001b[1;32m----> 1\u001b[1;33m \u001b[1;32mimport\u001b[0m \u001b[0mchardet\u001b[0m\u001b[1;33m\u001b[0m\u001b[0m\n\u001b[0m",
      "\u001b[1;31mImportError\u001b[0m: No module named 'chardet'"
     ]
    }
   ],
   "source": [
    "import chardet"
   ]
  },
  {
   "cell_type": "code",
   "execution_count": 131,
   "metadata": {
    "collapsed": false
   },
   "outputs": [],
   "source": [
    "html=res.read()"
   ]
  },
  {
   "cell_type": "code",
   "execution_count": 155,
   "metadata": {
    "collapsed": false
   },
   "outputs": [
    {
     "data": {
      "text/plain": [
       "bytes"
      ]
     },
     "execution_count": 155,
     "metadata": {},
     "output_type": "execute_result"
    }
   ],
   "source": [
    "type(html)"
   ]
  },
  {
   "cell_type": "code",
   "execution_count": 329,
   "metadata": {
    "collapsed": true
   },
   "outputs": [],
   "source": [
    "mv_id='2571488'"
   ]
  },
  {
   "cell_type": "code",
   "execution_count": 330,
   "metadata": {
    "collapsed": true
   },
   "outputs": [],
   "source": [
    "url='http://v.yinyuetai.com/video/'+mv_id"
   ]
  },
  {
   "cell_type": "code",
   "execution_count": 331,
   "metadata": {
    "collapsed": false
   },
   "outputs": [
    {
     "data": {
      "text/plain": [
       "'http://v.yinyuetai.com/video/2571488'"
      ]
     },
     "execution_count": 331,
     "metadata": {},
     "output_type": "execute_result"
    }
   ],
   "source": [
    "url"
   ]
  },
  {
   "cell_type": "code",
   "execution_count": 332,
   "metadata": {
    "collapsed": false
   },
   "outputs": [],
   "source": [
    "i=urlopen(url)"
   ]
  },
  {
   "cell_type": "code",
   "execution_count": 334,
   "metadata": {
    "collapsed": false
   },
   "outputs": [],
   "source": [
    "html2=i.read()\n",
    "#codec = i.info().get_param('charset', 'utf8')\n",
    "#html2 = html2.decode(codec,errors='ignore')"
   ]
  },
  {
   "cell_type": "code",
   "execution_count": 335,
   "metadata": {
    "collapsed": false
   },
   "outputs": [
    {
     "data": {
      "text/plain": [
       "96637"
      ]
     },
     "execution_count": 335,
     "metadata": {},
     "output_type": "execute_result"
    }
   ],
   "source": [
    "len(html2)"
   ]
  },
  {
   "cell_type": "code",
   "execution_count": 199,
   "metadata": {
    "collapsed": true
   },
   "outputs": [],
   "source": [
    "from html.parser import HTMLParser"
   ]
  },
  {
   "cell_type": "code",
   "execution_count": 242,
   "metadata": {
    "collapsed": true
   },
   "outputs": [],
   "source": [
    "class hp(HTMLParser):\n",
    "    def handle_starttag(self,tag,attr):\n",
    "        if tag=='title':\n",
    "            self.handle_data=self.get_data\n",
    "            print('title start')\n",
    "    def handle_endtag(self,tag):\n",
    "        if tag=='title':\n",
    "            self.handle_data=self.do_nothing\n",
    "            print('title end')\n",
    "            \n",
    "    def do_nothing(self,data):\n",
    "        pass\n",
    "    def get_data(self,data):\n",
    "        print(data)\n",
    "        self.data=data\n",
    "    \n",
    "    "
   ]
  },
  {
   "cell_type": "code",
   "execution_count": 269,
   "metadata": {
    "collapsed": false
   },
   "outputs": [],
   "source": [
    "HP=hp(convert_charrefs=False)"
   ]
  },
  {
   "cell_type": "code",
   "execution_count": 270,
   "metadata": {
    "collapsed": false
   },
   "outputs": [
    {
     "name": "stdout",
     "output_type": "stream",
     "text": [
      "title start\n",
      "【MV】AOA\n",
      "\t-Good Luck 完整版-高清MV在线播放-音悦Tai-口袋·FAN-看好音乐\n",
      "title end\n"
     ]
    }
   ],
   "source": [
    "data=HP.feed(html2)"
   ]
  },
  {
   "cell_type": "code",
   "execution_count": 238,
   "metadata": {
    "collapsed": false
   },
   "outputs": [
    {
     "data": {
      "text/plain": [
       "'【MV】TFBOYS\\n\\t-样(YOUNG) 官方版-高清MV在线播放-音悦Tai-口袋·FAN-看好音乐'"
      ]
     },
     "execution_count": 238,
     "metadata": {},
     "output_type": "execute_result"
    }
   ],
   "source": [
    "HP.data"
   ]
  },
  {
   "cell_type": "code",
   "execution_count": 271,
   "metadata": {
    "collapsed": true
   },
   "outputs": [],
   "source": [
    "data2=HP.data"
   ]
  },
  {
   "cell_type": "code",
   "execution_count": 273,
   "metadata": {
    "collapsed": true
   },
   "outputs": [],
   "source": [
    "def format_mv_name(name):\n",
    "    return name.split('\\n\\t')[-1].split('-')[1]+'--音悦Tai'+'.flv'"
   ]
  },
  {
   "cell_type": "code",
   "execution_count": 274,
   "metadata": {
    "collapsed": false
   },
   "outputs": [
    {
     "data": {
      "text/plain": [
       "'样(YOUNG) 官方版--音悦Tai.flv'"
      ]
     },
     "execution_count": 274,
     "metadata": {},
     "output_type": "execute_result"
    }
   ],
   "source": [
    "format_mv_name(data1)"
   ]
  },
  {
   "cell_type": "code",
   "execution_count": 272,
   "metadata": {
    "collapsed": false
   },
   "outputs": [
    {
     "data": {
      "text/plain": [
       "'Good Luck 完整版--音悦Tai'"
      ]
     },
     "execution_count": 272,
     "metadata": {},
     "output_type": "execute_result"
    }
   ],
   "source": [
    "format_mv_name(data2)"
   ]
  },
  {
   "cell_type": "code",
   "execution_count": 306,
   "metadata": {
    "collapsed": false
   },
   "outputs": [
    {
     "data": {
      "text/plain": [
       "property"
      ]
     },
     "execution_count": 306,
     "metadata": {},
     "output_type": "execute_result"
    }
   ],
   "source": [
    "type(a_name)"
   ]
  },
  {
   "cell_type": "code",
   "execution_count": 308,
   "metadata": {
    "collapsed": false
   },
   "outputs": [
    {
     "ename": "TypeError",
     "evalue": "'property' object is not callable",
     "output_type": "error",
     "traceback": [
      "\u001b[1;31m---------------------------------------------------------------------------\u001b[0m",
      "\u001b[1;31mTypeError\u001b[0m                                 Traceback (most recent call last)",
      "\u001b[1;32m<ipython-input-308-60741b01eec7>\u001b[0m in \u001b[0;36m<module>\u001b[1;34m()\u001b[0m\n\u001b[1;32m----> 1\u001b[1;33m \u001b[0ma_name\u001b[0m\u001b[1;33m(\u001b[0m\u001b[1;33m)\u001b[0m\u001b[1;33m\u001b[0m\u001b[0m\n\u001b[0m",
      "\u001b[1;31mTypeError\u001b[0m: 'property' object is not callable"
     ]
    }
   ],
   "source": [
    "a_name()"
   ]
  },
  {
   "cell_type": "code",
   "execution_count": 237,
   "metadata": {
    "collapsed": true
   },
   "outputs": [],
   "source": [
    "HP.close()"
   ]
  },
  {
   "cell_type": "code",
   "execution_count": 336,
   "metadata": {
    "collapsed": false
   },
   "outputs": [],
   "source": [
    "with open('a2.html','wb')as f:\n",
    "    f.write(html2)"
   ]
  },
  {
   "cell_type": "code",
   "execution_count": 187,
   "metadata": {
    "collapsed": false
   },
   "outputs": [],
   "source": [
    "mv_id='2426875'\n",
    "\n",
    "url='http://www.yinyuetai.com/insite/get-video-info?flex=true&videoId='+mv_id\n",
    "timeout=30\n",
    "\n",
    "headers={'User-Agent':('Mozilla/5.0(Windows NT 6.3)'\n",
    "                       'AppleWebKit/537.36 (KHTML,like Gecko)'\n",
    "                       'Chrome/39.0.2171.95'\n",
    "                       'Safari/537.36'),\n",
    "         'Accept':('text/html,application/xhtml+xml,'\n",
    "                   'application/xml;'\n",
    "                   'q=0.9,image/webp,*/*;q=0.8')}\n",
    "\n",
    "req=Request(url,None,headers)\n",
    "\n",
    "with urlopen(req,None,timeout) as res:\n",
    "\n",
    "    html=res.read()\n",
    "    codec = res.info().get_param('charset', 'ISO-8859-1')\n",
    "    html = html.decode(codec,errors='ignore')\n",
    "    \n"
   ]
  },
  {
   "cell_type": "code",
   "execution_count": 188,
   "metadata": {
    "collapsed": false
   },
   "outputs": [
    {
     "data": {
      "text/plain": [
       "str"
      ]
     },
     "execution_count": 188,
     "metadata": {},
     "output_type": "execute_result"
    }
   ],
   "source": [
    "type(html)"
   ]
  },
  {
   "cell_type": "code",
   "execution_count": 153,
   "metadata": {
    "collapsed": false
   },
   "outputs": [],
   "source": [
    "html=base64.b64decode(html)"
   ]
  },
  {
   "cell_type": "code",
   "execution_count": 168,
   "metadata": {
    "collapsed": false
   },
   "outputs": [],
   "source": [
    "with open('a.html','w') as f:\n",
    "    f.write(html)"
   ]
  },
  {
   "cell_type": "code",
   "execution_count": 350,
   "metadata": {
    "collapsed": true
   },
   "outputs": [],
   "source": [
    "output_dir=''"
   ]
  },
  {
   "cell_type": "code",
   "execution_count": null,
   "metadata": {
    "collapsed": true
   },
   "outputs": [],
   "source": [
    "    for item in csv.reader(f):\n",
    "        print(item)\n",
    "    "
   ]
  },
  {
   "cell_type": "code",
   "execution_count": 358,
   "metadata": {
    "collapsed": false
   },
   "outputs": [],
   "source": [
    "import csv\n",
    "with open('mv_ids.txt','r') as f:\n",
    "        l=\n",
    "\n"
   ]
  },
  {
   "cell_type": "code",
   "execution_count": 359,
   "metadata": {
    "collapsed": false
   },
   "outputs": [
    {
     "data": {
      "text/plain": [
       "[[('2278607', ''), ('2571488', '')], [('2563864', '')]]"
      ]
     },
     "execution_count": 359,
     "metadata": {},
     "output_type": "execute_result"
    }
   ],
   "source": [
    "l"
   ]
  },
  {
   "cell_type": "code",
   "execution_count": 344,
   "metadata": {
    "collapsed": false
   },
   "outputs": [
    {
     "ename": "TypeError",
     "evalue": "'NoneType' does not support the buffer interface",
     "output_type": "error",
     "traceback": [
      "\u001b[1;31m---------------------------------------------------------------------------\u001b[0m",
      "\u001b[1;31mTypeError\u001b[0m                                 Traceback (most recent call last)",
      "\u001b[1;32m<ipython-input-344-fcd09ed11865>\u001b[0m in \u001b[0;36m<module>\u001b[1;34m()\u001b[0m\n\u001b[1;32m----> 1\u001b[1;33m \u001b[0mos\u001b[0m\u001b[1;33m.\u001b[0m\u001b[0mpath\u001b[0m\u001b[1;33m.\u001b[0m\u001b[0misdir\u001b[0m\u001b[1;33m(\u001b[0m\u001b[1;32mNone\u001b[0m\u001b[1;33m)\u001b[0m\u001b[1;33m\u001b[0m\u001b[0m\n\u001b[0m",
      "\u001b[1;31mTypeError\u001b[0m: 'NoneType' does not support the buffer interface"
     ]
    }
   ],
   "source": [
    "os.path.isdir(None)"
   ]
  },
  {
   "cell_type": "code",
   "execution_count": 363,
   "metadata": {
    "collapsed": false
   },
   "outputs": [
    {
     "data": {
      "text/plain": [
       "'utf-8'"
      ]
     },
     "execution_count": 363,
     "metadata": {},
     "output_type": "execute_result"
    }
   ],
   "source": [
    "sys.getdefaultencoding()"
   ]
  },
  {
   "cell_type": "code",
   "execution_count": 364,
   "metadata": {
    "collapsed": true
   },
   "outputs": [],
   "source": [
    "s=b'JESSICA (\\xec\\xa0\\x9c\\xec\\x8b\\x9c\\xec\\xb9\\xb4) --\\xe9\\x9f\\xb3\\xe6\\x82\\xa6Tai.mp4'"
   ]
  },
  {
   "cell_type": "code",
   "execution_count": 367,
   "metadata": {
    "collapsed": false
   },
   "outputs": [
    {
     "data": {
      "text/plain": [
       "'JESSICA (제시카) --音悦Tai.mp4'"
      ]
     },
     "execution_count": 367,
     "metadata": {},
     "output_type": "execute_result"
    }
   ],
   "source": [
    "s.decode('utf-8')"
   ]
  },
  {
   "cell_type": "code",
   "execution_count": 376,
   "metadata": {
    "collapsed": false
   },
   "outputs": [],
   "source": [
    "def get_locale_codec():\n",
    "    import locale\n",
    "    import codecs\n",
    "    return codecs.lookup(locale.getpreferredencoding()).name"
   ]
  },
  {
   "cell_type": "code",
   "execution_count": 377,
   "metadata": {
    "collapsed": false
   },
   "outputs": [
    {
     "data": {
      "text/plain": [
       "'gbk'"
      ]
     },
     "execution_count": 377,
     "metadata": {},
     "output_type": "execute_result"
    }
   ],
   "source": [
    "get_locale_codec()"
   ]
  },
  {
   "cell_type": "code",
   "execution_count": 371,
   "metadata": {
    "collapsed": false
   },
   "outputs": [
    {
     "data": {
      "text/plain": [
       "'Chinese (Simplified)_China.936'"
      ]
     },
     "execution_count": 371,
     "metadata": {},
     "output_type": "execute_result"
    }
   ],
   "source": [
    "locale.setlocale(locale.LC_ALL, '')"
   ]
  },
  {
   "cell_type": "code",
   "execution_count": 374,
   "metadata": {
    "collapsed": false
   },
   "outputs": [
    {
     "data": {
      "text/plain": [
       "('Chinese (Simplified)_China', '936')"
      ]
     },
     "execution_count": 374,
     "metadata": {},
     "output_type": "execute_result"
    }
   ],
   "source": [
    "locale.getlocale() "
   ]
  },
  {
   "cell_type": "code",
   "execution_count": 393,
   "metadata": {
    "collapsed": false
   },
   "outputs": [],
   "source": [
    "gs=locale.format('%s','JESSICA (제시카) --音悦Tai.mp4')"
   ]
  },
  {
   "cell_type": "code",
   "execution_count": 389,
   "metadata": {
    "collapsed": false
   },
   "outputs": [
    {
     "data": {
      "text/plain": [
       "b'JESSICA (\\xec\\xa0\\x9c\\xec\\x8b\\x9c\\xec\\xb9\\xb4) --\\xe9\\x9f\\xb3\\xe6\\x82\\xa6Tai.mp4'"
      ]
     },
     "execution_count": 389,
     "metadata": {},
     "output_type": "execute_result"
    }
   ],
   "source": [
    "gs.encode('utf-8')"
   ]
  },
  {
   "cell_type": "code",
   "execution_count": 390,
   "metadata": {
    "collapsed": false
   },
   "outputs": [
    {
     "data": {
      "text/plain": [
       "UnicodeEncodeError"
      ]
     },
     "execution_count": 390,
     "metadata": {},
     "output_type": "execute_result"
    }
   ],
   "source": [
    "UnicodeEncodeError"
   ]
  },
  {
   "cell_type": "code",
   "execution_count": 395,
   "metadata": {
    "collapsed": false
   },
   "outputs": [
    {
     "name": "stdout",
     "output_type": "stream",
     "text": [
      "JESSICA (제시카) --音悦Tai.mp4\n"
     ]
    }
   ],
   "source": [
    "print(gs)"
   ]
  },
  {
   "cell_type": "code",
   "execution_count": 399,
   "metadata": {
    "collapsed": false
   },
   "outputs": [
    {
     "data": {
      "text/plain": [
       "'E:\\\\Coding\\\\Python3.4'"
      ]
     },
     "execution_count": 399,
     "metadata": {},
     "output_type": "execute_result"
    }
   ],
   "source": [
    "os.path.abspath('../../')"
   ]
  },
  {
   "cell_type": "code",
   "execution_count": 398,
   "metadata": {
    "collapsed": false
   },
   "outputs": [
    {
     "data": {
      "text/plain": [
       "True"
      ]
     },
     "execution_count": 398,
     "metadata": {},
     "output_type": "execute_result"
    }
   ],
   "source": [
    "os.path.isdir()"
   ]
  },
  {
   "cell_type": "code",
   "execution_count": 401,
   "metadata": {
    "collapsed": false
   },
   "outputs": [
    {
     "data": {
      "text/plain": [
       "'a.html'"
      ]
     },
     "execution_count": 401,
     "metadata": {},
     "output_type": "execute_result"
    }
   ],
   "source": [
    "os.path.basename(r'E:\\Coding\\Python2.7\\python_scripts\\Test\\a.html')"
   ]
  },
  {
   "cell_type": "code",
   "execution_count": 403,
   "metadata": {
    "collapsed": false
   },
   "outputs": [
    {
     "data": {
      "text/plain": [
       "{1, 2, 3}"
      ]
     },
     "execution_count": 403,
     "metadata": {},
     "output_type": "execute_result"
    }
   ],
   "source": [
    "set([1,2,2,3])"
   ]
  },
  {
   "cell_type": "code",
   "execution_count": 409,
   "metadata": {
    "collapsed": false
   },
   "outputs": [],
   "source": [
    "s=set()"
   ]
  },
  {
   "cell_type": "code",
   "execution_count": 411,
   "metadata": {
    "collapsed": false
   },
   "outputs": [],
   "source": [
    "s.add(1)"
   ]
  },
  {
   "cell_type": "code",
   "execution_count": 412,
   "metadata": {
    "collapsed": false
   },
   "outputs": [
    {
     "data": {
      "text/plain": [
       "{1}"
      ]
     },
     "execution_count": 412,
     "metadata": {},
     "output_type": "execute_result"
    }
   ],
   "source": [
    "s"
   ]
  }
 ],
 "metadata": {
  "kernelspec": {
   "display_name": "Python 3",
   "language": "python",
   "name": "python3"
  },
  "language_info": {
   "codemirror_mode": {
    "name": "ipython",
    "version": 3
   },
   "file_extension": ".py",
   "mimetype": "text/x-python",
   "name": "python",
   "nbconvert_exporter": "python",
   "pygments_lexer": "ipython3",
   "version": "3.5.1"
  }
 },
 "nbformat": 4,
 "nbformat_minor": 0
}
